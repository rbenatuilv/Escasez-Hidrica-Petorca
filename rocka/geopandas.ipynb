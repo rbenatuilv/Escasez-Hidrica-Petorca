{
 "cells": [
  {
   "cell_type": "code",
   "execution_count": 20,
   "metadata": {},
   "outputs": [],
   "source": [
    "import base64\n",
    "import io\n",
    "import requests\n",
    "from requests import Response\n",
    "from PIL import Image, ImageDraw, ImageFont, ImageFilter\n",
    "from openai import OpenAI\n",
    "from pprint import pprint\n",
    "import google.generativeai as genai\n",
    "import google.ai.generativelanguage as glm\n",
    "from dotenv import load_dotenv\n",
    "import os\n",
    "import pathlib\n",
    "import rasterio\n",
    "from rasterio.windows import Window\n",
    "from shapely.geometry import box\n",
    "\n",
    "import geopandas as gpd\n",
    "import pandas as pd"
   ]
  },
  {
   "cell_type": "code",
   "execution_count": 21,
   "metadata": {},
   "outputs": [],
   "source": [
    "tamaño_trozo = 100\n",
    "geo_dict = { 'id' : [], 'geometry' : []}\n",
    "\n"
   ]
  },
  {
   "cell_type": "code",
   "execution_count": 22,
   "metadata": {},
   "outputs": [
    {
     "name": "stdout",
     "output_type": "stream",
     "text": [
      "       id                                           geometry\n",
      "0     0-0  POLYGON ((316607.253 6431214.091, 316607.253 6...\n",
      "1     1-0  POLYGON ((317207.253 6431214.091, 317207.253 6...\n",
      "2     2-0  POLYGON ((317807.253 6431214.091, 317807.253 6...\n",
      "3     3-0  POLYGON ((318407.253 6431214.091, 318407.253 6...\n",
      "4     4-0  POLYGON ((319007.253 6431214.091, 319007.253 6...\n",
      "..    ...                                                ...\n",
      "195  3-24  POLYGON ((318407.253 6416814.091, 318407.253 6...\n",
      "196  4-24  POLYGON ((319007.253 6416814.091, 319007.253 6...\n",
      "197  5-24  POLYGON ((319607.253 6416814.091, 319607.253 6...\n",
      "198  6-24  POLYGON ((320207.253 6416814.091, 320207.253 6...\n",
      "199  7-24  POLYGON ((320807.253 6416814.091, 320807.253 6...\n",
      "\n",
      "[200 rows x 2 columns]\n"
     ]
    },
    {
     "name": "stderr",
     "output_type": "stream",
     "text": [
      "/home/palios/programing/fach-dataton/.venv/lib/python3.10/site-packages/pyproj/crs/crs.py:141: FutureWarning: '+init=<authority>:<code>' syntax is deprecated. '<authority>:<code>' is the preferred initialization method. When making the change, be mindful of axis order changes: https://pyproj4.github.io/pyproj/stable/gotchas.html#axis-order-changes-in-proj-6\n",
      "  in_crs_string = _prepare_from_proj_string(in_crs_string)\n"
     ]
    }
   ],
   "source": [
    "\n",
    "with rasterio.open(\"./jilin/imagen_cortada.tif\") as src:\n",
    "    pos_y = 0\n",
    "    pos_x = 0\n",
    "    width, height = src.shape\n",
    "    for y in range(0, height, tamaño_trozo):\n",
    "        for x in range(0, width, tamaño_trozo):\n",
    "\n",
    "            window = Window(col_off=x, row_off=y, width=x+tamaño_trozo, height=y+tamaño_trozo)\n",
    "            bbox = rasterio.windows.bounds(window, src.transform)\n",
    "            bbox = box(*bbox)\n",
    "            geo_dict['id'].append(f\"{x // 100}-{y // 100}\")\n",
    "            geo_dict['geometry'].append(bbox)\n",
    "\n",
    "            pos_x = pos_x + 1\n",
    "        pos_y = pos_y + 1\n",
    "        pos_x = 0\n",
    "\n",
    "\n",
    "\n",
    "results = gpd.GeoDataFrame(pd.DataFrame(geo_dict))\n",
    "results.crs = {'init' :'epsg:32719'}\n",
    "results.to_file(\"salida-final\", driver=\"GeoJSON\")\n",
    "\n",
    "print(results)"
   ]
  },
  {
   "cell_type": "code",
   "execution_count": 23,
   "metadata": {},
   "outputs": [],
   "source": [
    "results.to_file(\"shape/results_2.shp\")\n"
   ]
  },
  {
   "cell_type": "code",
   "execution_count": null,
   "metadata": {},
   "outputs": [],
   "source": []
  }
 ],
 "metadata": {
  "kernelspec": {
   "display_name": ".venv",
   "language": "python",
   "name": "python3"
  },
  "language_info": {
   "codemirror_mode": {
    "name": "ipython",
    "version": 3
   },
   "file_extension": ".py",
   "mimetype": "text/x-python",
   "name": "python",
   "nbconvert_exporter": "python",
   "pygments_lexer": "ipython3",
   "version": "3.10.12"
  }
 },
 "nbformat": 4,
 "nbformat_minor": 2
}
