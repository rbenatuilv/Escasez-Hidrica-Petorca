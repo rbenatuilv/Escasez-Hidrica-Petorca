{
 "cells": [
  {
   "cell_type": "markdown",
   "metadata": {},
   "source": [
    "# Cálculo de Índices relevantes por satélite"
   ]
  },
  {
   "cell_type": "markdown",
   "metadata": {},
   "source": [
    "## Índices relevantes: Sentinel 2\n",
    "\n",
    "\n",
    "### NDVI: Normalized Difference Vegetation Index\n",
    "\n",
    "$$NDVI = \\frac{\\rho_{NIR} - \\rho_{Red}}{\\rho_{NIR} + \\rho_{Red}} = \\frac{B8 - B4}{B8 + B4}$$\n",
    "\n",
    "\n",
    "### NDWI: Normalized Difference Water Index\n",
    "\n",
    "$$NDWI = \\frac{\\rho_{Green} - \\rho_{NIR}}{\\rho_{Green} + \\rho_{NIR}} = \\frac{B3 - B8}{B3 + B8}$$\n",
    "\n",
    "\n",
    "### NMDI: Normalized Multi-Band Drought Index (Wang and Qu, 2007)\n",
    "\n",
    "$$NMDI = \\frac{R_{860nm} - (R_{1640nm} - R_{2130nm})}{R_{860nm} + (R_{1640nm} - R_{2130nm})} = \\frac{\\rho_{RE4} - (\\rho_{SWIR1} - \\rho_{SWIR2})}{\\rho_{RE4} + (\\rho_{SWIR1} - \\rho_{SWIR2})}$$\n",
    "$$ = \\frac{B8A - (B11 - B12)}{B8A + (B11 - B12)}$$\n",
    "\n",
    "References:\n",
    "\n",
    "https://agupubs.onlinelibrary.wiley.com/doi/full/10.1029/2007GL031021\n",
    "\n",
    "https://www.researchgate.net/publication/330401106_Potential_of_drought_monitoring_using_Sentinel-2_data\n",
    "\n",
    "\n",
    "### NDDI: Normalized Difference Drought Index (Gu et al., 2007)\n",
    "\n",
    "$$NDDI = \\frac{NDVI - NDWI}{NDVI + NDWI}$$\n",
    "\n",
    "References:\n",
    "\n",
    "https://agupubs.onlinelibrary.wiley.com/doi/full/10.1029/2006GL029127\n",
    "\n",
    "https://ojs3.mtak.hu/index.php/hungeobull/article/view/457/783\n",
    "\n"
   ]
  },
  {
   "cell_type": "markdown",
   "metadata": {},
   "source": [
    "## LandSat 8"
   ]
  },
  {
   "cell_type": "markdown",
   "metadata": {},
   "source": [
    "## Más referencias sobre índices de sequía"
   ]
  },
  {
   "cell_type": "markdown",
   "metadata": {},
   "source": [
    "\n",
    "#### Potential_of_drought_monitoring_using_Sentinel-2_data\n",
    "\n",
    "https://www.researchgate.net/publication/330401106_Potential_of_drought_monitoring_using_Sentinel-2_data\n",
    "\n",
    "#### NMDI: A normalized multi-band drought index for monitoring soil and vegetation moisture with satellite remote sensing\n",
    "\n",
    "https://agupubs.onlinelibrary.wiley.com/doi/full/10.1029/2007GL031021\n",
    "\n",
    "#### Combined use of Sentinel-2 and Landsat-8 to monitor water surface area and evaluated drought risk severity using Google Earth Engine\n",
    "\n",
    "https://link.springer.com/article/10.1007/s12145-021-00761-9\n",
    "\n",
    "#### Drought monitoring of forest vegetation using MODIS-based normalized difference drought index in Hungary\n",
    "\n",
    "https://ojs3.mtak.hu/index.php/hungeobull/article/view/457/783\n",
    "\n",
    "#### Listado de índices espectrales para Sentinel y Landsat\n",
    "\n",
    "https://www.gisandbeers.com/listado-indices-espectrales-sentinel-landsat/\n",
    "\n",
    "#### Reviewing the Potential of Sentinel-2 in Assessing the Drought\n",
    "\n",
    "https://www.mdpi.com/2072-4292/13/17/3355\n",
    "\n",
    "#### Retrieval of Evapotranspiration from Sentinel-2: Comparison of Vegetation Indices, Semi-Empirical Models and SNAP Biophysical Processor Approach\n",
    "\n",
    "https://www.mdpi.com/2073-4395/9/10/663\n",
    "\n",
    "#### Retrieving Leaf Area Index (LAI) on Sentinel 2 image with Google Earth Engine (GEE)\n",
    "\n",
    "https://kaflekrishna.com.np/blog-detail/retrieving-leaf-area-index-lai-sentinel-2-image-google-earth-engine-gee/\n",
    "\n",
    "#### Retrieving soil moisture in rainfed and irrigated fields using Sentinel-2 observations and a modified OPTRAM approach\n",
    "\n",
    "https://www.sciencedirect.com/science/article/pii/S0303243419312760\n",
    "\n",
    "#### A MULTI-SCALAR DROUGHT INDEX SENSITIVE TO GLOBAL WARMING: THE STANDARDIZED PRECIPITATION EVAPOTRANSPIRATION INDEX – SPEI\n",
    "\n",
    "https://web.archive.org/web/20170820163206/http://digital.csic.es/bitstream/10261/22405/1/spei_text_figures.pdf\n",
    "\n",
    "\n"
   ]
  },
  {
   "cell_type": "markdown",
   "metadata": {},
   "source": []
  }
 ],
 "metadata": {
  "language_info": {
   "name": "python"
  }
 },
 "nbformat": 4,
 "nbformat_minor": 2
}
