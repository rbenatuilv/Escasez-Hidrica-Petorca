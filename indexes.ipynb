{
 "cells": [
  {
   "cell_type": "markdown",
   "metadata": {},
   "source": [
    "# Cálculo de Índices relevantes por satélite"
   ]
  },
  {
   "cell_type": "markdown",
   "metadata": {},
   "source": [
    "## Índices relevantes: Sentinel 2\n",
    "\n",
    "\n",
    "### NDVI: Normalized Difference Vegetation Index\n",
    "\n",
    "$$NDVI = \\frac{\\rho_{NIR} - \\rho_{Red}}{\\rho_{NIR} + \\rho_{Red}} = \\frac{B8 - B4}{B8 + B4}$$\n",
    "\n",
    "\n",
    "### NDWI: Normalized Difference Water Index\n",
    "\n",
    "$$NDWI = \\frac{\\rho_{Green} - \\rho_{NIR}}{\\rho_{Green} + \\rho_{NIR}} = \\frac{B3 - B8}{B3 + B8}$$\n",
    "\n",
    "\n",
    "### NMDI: Normalized Multi-Band Drought Index (Wang and Qu, 2007)\n",
    "\n",
    "$$NMDI = \\frac{R_{860nm} - (R_{1640nm} - R_{2130nm})}{R_{860nm} + (R_{1640nm} - R_{2130nm})} = \\frac{\\rho_{RE4} - (\\rho_{SWIR1} - \\rho_{SWIR2})}{\\rho_{RE4} + (\\rho_{SWIR1} - \\rho_{SWIR2})}$$\n",
    "$$ = \\frac{B8A - (B11 - B12)}{B8A + (B11 - B12)}$$\n",
    "\n",
    "References:\n",
    "\n",
    "https://agupubs.onlinelibrary.wiley.com/doi/full/10.1029/2007GL031021\n",
    "\n",
    "https://www.researchgate.net/publication/330401106_Potential_of_drought_monitoring_using_Sentinel-2_data\n",
    "\n",
    "\n",
    "### NDDI: Normalized Difference Drought Index (Gu et al., 2007)\n",
    "\n",
    "$$NDDI = \\frac{NDVI - NDWI}{NDVI + NDWI}$$\n",
    "\n",
    "References:\n",
    "\n",
    "https://agupubs.onlinelibrary.wiley.com/doi/full/10.1029/2006GL029127\n",
    "\n",
    "https://ojs3.mtak.hu/index.php/hungeobull/article/view/457/783\n",
    "\n"
   ]
  },
  {
   "cell_type": "markdown",
   "metadata": {},
   "source": [
    "## LandSat 8"
   ]
  },
  {
   "cell_type": "markdown",
   "metadata": {},
   "source": []
  }
 ],
 "metadata": {
  "language_info": {
   "name": "python"
  }
 },
 "nbformat": 4,
 "nbformat_minor": 2
}
