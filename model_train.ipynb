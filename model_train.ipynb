{
 "cells": [
  {
   "cell_type": "code",
   "execution_count": 1,
   "metadata": {},
   "outputs": [],
   "source": [
    "import os\n",
    "import cv2\n",
    "import numpy as np\n",
    "import pandas as pd"
   ]
  },
  {
   "cell_type": "code",
   "execution_count": 2,
   "metadata": {},
   "outputs": [
    {
     "data": {
      "text/plain": [
       "['built', 'crop', 'grass', 'tiles', 'water']"
      ]
     },
     "execution_count": 2,
     "metadata": {},
     "output_type": "execute_result"
    }
   ],
   "source": [
    "os.listdir('Data/PetorcaSAT')"
   ]
  },
  {
   "cell_type": "code",
   "execution_count": 3,
   "metadata": {},
   "outputs": [
    {
     "name": "stdout",
     "output_type": "stream",
     "text": [
      "(100, 100, 3)\n",
      "(200, 30000)\n"
     ]
    }
   ],
   "source": [
    "def images_to_df(folder_path):\n",
    "    images = []\n",
    "    filenames = []\n",
    "    labels = []\n",
    "    img_size=False\n",
    "    for type in os.listdir(folder_path):\n",
    "        type_path = os.path.join(folder_path, type)\n",
    "        if type == 'tiles':\n",
    "            pass\n",
    "        else:\n",
    "            for filename in os.listdir(type_path):\n",
    "                img_path = os.path.join(folder_path, type, filename)\n",
    "                if os.path.isfile(img_path):\n",
    "                    img = cv2.imread(img_path)\n",
    "                    if img is not None:\n",
    "                        if not img_size:\n",
    "                            print(img.shape)\n",
    "                            img_size=True\n",
    "                        images.append(img.flatten().tolist())\n",
    "                        filenames.append(filename)\n",
    "                        labels.append(type)\n",
    "    return images, filenames, labels\n",
    "\n",
    "folder_path = os.path.join('Data', 'PetorcaSAT')\n",
    "\n",
    "images, filenames, labels = images_to_df(folder_path)\n",
    "\n",
    "image_arrays = np.array(images)\n",
    "print(image_arrays.shape)\n"
   ]
  },
  {
   "cell_type": "code",
   "execution_count": 4,
   "metadata": {},
   "outputs": [
    {
     "name": "stdout",
     "output_type": "stream",
     "text": [
      "     0      1      2      3      4      5      6      7      8      9      \\\n",
      "0      138    142    153    143    147    158    148    153    162    150   \n",
      "1      159    166    175    159    166    175    158    164    171    150   \n",
      "2      170    172    160    156    160    148    156    159    150    198   \n",
      "3      178    199    207    195    216    224    213    232    239    215   \n",
      "4      123    129    142    129    135    148    135    141    154    136   \n",
      "..     ...    ...    ...    ...    ...    ...    ...    ...    ...    ...   \n",
      "195    118    106    102    119    107    103    119    107    103    120   \n",
      "196    166    159    142    143    135    118    118    108     90    107   \n",
      "197    113    102     94    117    106     98    121    109    103    120   \n",
      "198    179    183    178    170    174    169    170    174    168    179   \n",
      "199    155    164    178    149    158    172    144    153    167    145   \n",
      "\n",
      "     ...  29990  29991  29992  29993  29994  29995  29996  29997  29998  29999  \n",
      "0    ...    233    240    248    231    219    227    210    200    208    191  \n",
      "1    ...    131    144    145    143    160    161    159    174    175    173  \n",
      "2    ...     80    115    110    109    142    136    137    152    147    148  \n",
      "3    ...    144    163    162    148    167    166    152    169    168    154  \n",
      "4    ...    209    181    197    209    182    198    210    183    199    211  \n",
      "..   ...    ...    ...    ...    ...    ...    ...    ...    ...    ...    ...  \n",
      "195  ...    114    126    113    111    126    113    111    125    112    110  \n",
      "196  ...    168    152    153    163    146    147    157    144    145    155  \n",
      "197  ...     84    108     89     84    108     89     84    109     90     85  \n",
      "198  ...     91    104    100     82     98     94     76     99     95     77  \n",
      "199  ...    250    184    227    254    169    212    239    150    193    220  \n",
      "\n",
      "[200 rows x 30000 columns]\n"
     ]
    }
   ],
   "source": [
    "df = pd.DataFrame.from_records(image_arrays)\n",
    "print(df)"
   ]
  },
  {
   "cell_type": "code",
   "execution_count": 5,
   "metadata": {},
   "outputs": [],
   "source": [
    "df['filename'] = filenames\n",
    "df['labels'] = labels\n",
    "columns = list(df.columns)\n",
    "columns = columns[-2:]+columns[:-2]\n",
    "df = df[columns]"
   ]
  },
  {
   "cell_type": "code",
   "execution_count": 6,
   "metadata": {},
   "outputs": [
    {
     "data": {
      "text/plain": [
       "array(['built', 'crop', 'grass', 'water'], dtype=object)"
      ]
     },
     "execution_count": 6,
     "metadata": {},
     "output_type": "execute_result"
    }
   ],
   "source": [
    "df['labels'].unique()"
   ]
  },
  {
   "cell_type": "code",
   "execution_count": 7,
   "metadata": {},
   "outputs": [
    {
     "name": "stdout",
     "output_type": "stream",
     "text": [
      "<class 'pandas.core.frame.DataFrame'>\n",
      "RangeIndex: 200 entries, 0 to 199\n",
      "Columns: 30002 entries, filename to 29999\n",
      "dtypes: int32(30000), object(2)\n",
      "memory usage: 22.9+ MB\n"
     ]
    }
   ],
   "source": [
    "df.info()"
   ]
  },
  {
   "cell_type": "code",
   "execution_count": 8,
   "metadata": {},
   "outputs": [
    {
     "name": "stdout",
     "output_type": "stream",
     "text": [
      "Requirement already satisfied: imbalanced-learn in c:\\users\\minso\\appdata\\local\\programs\\python\\python311\\lib\\site-packages (0.12.2)\n",
      "Requirement already satisfied: numpy>=1.17.3 in c:\\users\\minso\\appdata\\local\\programs\\python\\python311\\lib\\site-packages (from imbalanced-learn) (1.23.5)\n",
      "Requirement already satisfied: scipy>=1.5.0 in c:\\users\\minso\\appdata\\local\\programs\\python\\python311\\lib\\site-packages (from imbalanced-learn) (1.13.0)\n",
      "Requirement already satisfied: scikit-learn>=1.0.2 in c:\\users\\minso\\appdata\\local\\programs\\python\\python311\\lib\\site-packages (from imbalanced-learn) (1.4.1.post1)\n",
      "Requirement already satisfied: joblib>=1.1.1 in c:\\users\\minso\\appdata\\local\\programs\\python\\python311\\lib\\site-packages (from imbalanced-learn) (1.3.2)\n",
      "Requirement already satisfied: threadpoolctl>=2.0.0 in c:\\users\\minso\\appdata\\local\\programs\\python\\python311\\lib\\site-packages (from imbalanced-learn) (3.2.0)\n"
     ]
    }
   ],
   "source": [
    "!py -3.11 -m pip install imbalanced-learn"
   ]
  },
  {
   "cell_type": "code",
   "execution_count": 9,
   "metadata": {},
   "outputs": [],
   "source": [
    "import sklearn\n",
    "from sklearn.model_selection import train_test_split\n",
    "from sklearn.ensemble import RandomForestClassifier\n",
    "from sklearn import metrics, svm\n",
    "from sklearn.model_selection import cross_val_score\n",
    "from imblearn.combine import SMOTETomek\n",
    "\n"
   ]
  },
  {
   "cell_type": "code",
   "execution_count": 10,
   "metadata": {},
   "outputs": [],
   "source": [
    "X=df[[i for i in range(30000)]]\n",
    "y=df['labels']\n",
    "\n",
    "X_train, X_test, y_train, y_test = train_test_split(X, y, test_size = 0.25)\n",
    "\n",
    "tl = SMOTETomek()\n",
    "X_train, y_train = tl.fit_resample(X_train, y_train)\n",
    "\n"
   ]
  },
  {
   "cell_type": "code",
   "execution_count": 11,
   "metadata": {},
   "outputs": [
    {
     "name": "stdout",
     "output_type": "stream",
     "text": [
      "ACCURACY OF THE MODEL:  0.72\n"
     ]
    },
    {
     "name": "stderr",
     "output_type": "stream",
     "text": [
      "c:\\Users\\minso\\AppData\\Local\\Programs\\Python\\Python311\\Lib\\site-packages\\sklearn\\model_selection\\_split.py:737: UserWarning: The least populated class in y has only 1 members, which is less than n_splits=20.\n",
      "  warnings.warn(\n"
     ]
    },
    {
     "name": "stdout",
     "output_type": "stream",
     "text": [
      "Normal test: 0.6583333333333333\n"
     ]
    }
   ],
   "source": [
    "clf = RandomForestClassifier()  \n",
    "# Training the model on the training dataset\n",
    "# fit function is used to train the model using the training sets as parameters\n",
    "clf.fit(X_train, y_train)\n",
    "  \n",
    "# performing predictions on the test dataset\n",
    "y_pred = clf.predict(X_test)\n",
    "print(\"ACCURACY OF THE MODEL: \", metrics.accuracy_score(y_test, y_pred))\n",
    "\n",
    "scores_RL = cross_val_score(clf, X_test, y_test, cv=20, scoring='accuracy')\n",
    "# scores_RL_tomek = cross_val_score(clf, X_test_t, y_test_t, cv=20, scoring='accuracy')\n",
    "print(\"Normal test:\", np.mean(scores_RL))\n",
    "# print(\"Balanced test:\",np.mean(scores_RL_tomek))"
   ]
  },
  {
   "cell_type": "code",
   "execution_count": 12,
   "metadata": {},
   "outputs": [
    {
     "data": {
      "text/plain": [
       "<sklearn.metrics._plot.confusion_matrix.ConfusionMatrixDisplay at 0x220a609de90>"
      ]
     },
     "execution_count": 12,
     "metadata": {},
     "output_type": "execute_result"
    },
    {
     "data": {
      "image/png": "[encoded data removed]",
      "text/plain": [
       "<Figure size 640x480 with 2 Axes>"
      ]
     },
     "metadata": {},
     "output_type": "display_data"
    }
   ],
   "source": [
    "cm = sklearn.metrics.confusion_matrix(y_test, y_pred)\n",
    "cm_plot = sklearn.metrics.ConfusionMatrixDisplay(cm, display_labels=list(df['labels'].unique()))\n",
    "cm_plot.plot()\n"
   ]
  },
  {
   "cell_type": "code",
   "execution_count": 13,
   "metadata": {},
   "outputs": [
    {
     "name": "stdout",
     "output_type": "stream",
     "text": [
      "ACCURACY OF THE MODEL:  0.76\n"
     ]
    },
    {
     "name": "stderr",
     "output_type": "stream",
     "text": [
      "c:\\Users\\minso\\AppData\\Local\\Programs\\Python\\Python311\\Lib\\site-packages\\sklearn\\model_selection\\_split.py:737: UserWarning: The least populated class in y has only 1 members, which is less than n_splits=20.\n",
      "  warnings.warn(\n"
     ]
    },
    {
     "name": "stdout",
     "output_type": "stream",
     "text": [
      "Normal test: 0.625\n"
     ]
    }
   ],
   "source": [
    "clf = svm.SVC(C=1)\n",
    "clf.fit(X_train, y_train)\n",
    "  \n",
    "# performing predictions on the test dataset\n",
    "y_pred = clf.predict(X_test)\n",
    "print(\"ACCURACY OF THE MODEL: \", metrics.accuracy_score(y_test, y_pred))\n",
    "\n",
    "scores_RL = cross_val_score(clf, X_test, y_test, cv=20, scoring='accuracy')\n",
    "# scores_RL_tomek = cross_val_score(clf, X_test_t, y_test_t, cv=20, scoring='accuracy')\n",
    "print(\"Normal test:\", np.mean(scores_RL))\n",
    "# print(\"Balanced test:\",np.mean(scores_RL_tomek))"
   ]
  },
  {
   "cell_type": "code",
   "execution_count": 14,
   "metadata": {},
   "outputs": [
    {
     "data": {
      "text/plain": [
       "<sklearn.metrics._plot.confusion_matrix.ConfusionMatrixDisplay at 0x220ba130290>"
      ]
     },
     "execution_count": 14,
     "metadata": {},
     "output_type": "execute_result"
    },
    {
     "data": {
      "image/png": "[encoded data removed]",
      "text/plain": [
       "<Figure size 640x480 with 2 Axes>"
      ]
     },
     "metadata": {},
     "output_type": "display_data"
    }
   ],
   "source": [
    "cm = sklearn.metrics.confusion_matrix(y_test, y_pred)\n",
    "cm_plot = sklearn.metrics.ConfusionMatrixDisplay(cm, display_labels=list(df['labels'].unique()))\n",
    "cm_plot.plot()"
   ]
  }
 ],
 "metadata": {
  "kernelspec": {
   "display_name": "Python 3",
   "language": "python",
   "name": "python3"
  },
  "language_info": {
   "codemirror_mode": {
    "name": "ipython",
    "version": 3
   },
   "file_extension": ".py",
   "mimetype": "text/x-python",
   "name": "python",
   "nbconvert_exporter": "python",
   "pygments_lexer": "ipython3",
   "version": "3.11.8"
  }
 },
 "nbformat": 4,
 "nbformat_minor": 2
}
